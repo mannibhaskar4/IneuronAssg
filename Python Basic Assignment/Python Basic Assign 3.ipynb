{
 "cells": [
  {
   "cell_type": "markdown",
   "metadata": {},
   "source": [
    "1> Why are functions advantageous to have in your programs?"
   ]
  },
  {
   "cell_type": "markdown",
   "metadata": {},
   "source": [
    "Ans>\n",
    "> Functions help us to remove duplicate codes from our program.  \n",
    "> Functions make writing program simpler  \n",
    "> Program devlopment time is reduced  \n",
    "> Debugging (removing of errors) becomes easier."
   ]
  },
  {
   "cell_type": "markdown",
   "metadata": {},
   "source": [
    "2> When does the code in a function run: when it's specified or when it's called?"
   ]
  },
  {
   "cell_type": "markdown",
   "metadata": {},
   "source": [
    "Ans>\n",
    "> Function runs when it is called  "
   ]
  },
  {
   "cell_type": "markdown",
   "metadata": {},
   "source": [
    "3> What statement creates a function?"
   ]
  },
  {
   "cell_type": "markdown",
   "metadata": {},
   "source": [
    "Ans>\n",
    "> def <\"name of function\">(<\"paramenters\">):   \n",
    "$\\;\\;\\;\\;\\;\\;$<\"function body\">  \n",
    "$\\;\\;\\;\\;\\;\\;$return statement(if required)  \n",
    "  \n",
    "def statement creates function"
   ]
  },
  {
   "cell_type": "markdown",
   "metadata": {},
   "source": [
    "4> What is the difference between a function and a function call?"
   ]
  },
  {
   "cell_type": "markdown",
   "metadata": {},
   "source": [
    "Ans>\n",
    ">Functions are pre-defined programs meant for specific job and returns a value. They can be in-built or user defined. \n",
    "Function call is a code used to pass control to function"
   ]
  },
  {
   "cell_type": "markdown",
   "metadata": {},
   "source": [
    "5> How many global scopes are there in a Python program? How many local scopes?"
   ]
  },
  {
   "cell_type": "markdown",
   "metadata": {},
   "source": [
    "Ans>\n",
    "> There is one global scope, and a local scope is created whenever a function is called.\n"
   ]
  },
  {
   "cell_type": "markdown",
   "metadata": {},
   "source": [
    "6> What happens to variables in a local scope when the function call returns?"
   ]
  },
  {
   "cell_type": "markdown",
   "metadata": {},
   "source": [
    "Ans>\n",
    "> Varibles in local scope is known as local variable and when function call returns local varible retains its value until the next time the function is called. A local variable becomes undefined after the function call completes. The local variable can be used outside the function any time after the function call completes."
   ]
  },
  {
   "cell_type": "markdown",
   "metadata": {},
   "source": [
    "7> What is the concept of a return value? Is it possible to have a return value in an expression?"
   ]
  },
  {
   "cell_type": "markdown",
   "metadata": {},
   "source": [
    "Ans>\n",
    "> A function always returns a value and return keyword is used to return a value.This keyword is used to terminate the function. Suppose:  \n",
    "def add(a, b):  \n",
    "$\\;\\;\\;$# returning sum of a and b  \n",
    "$\\;\\;\\;$return a + b  \n",
    "z=add(2,3)  \n",
    "This is example to return value in an expression"
   ]
  },
  {
   "cell_type": "markdown",
   "metadata": {},
   "source": [
    "8> If a function does not have a return statement, what is the return value of a call to that function?"
   ]
  },
  {
   "cell_type": "code",
   "execution_count": 6,
   "metadata": {},
   "outputs": [
    {
     "name": "stdout",
     "output_type": "stream",
     "text": [
      "king\n",
      "<class 'NoneType'>\n"
     ]
    }
   ],
   "source": [
    "def kin():\n",
    "    print(\"king\")\n",
    "print(type(kin()))"
   ]
  },
  {
   "cell_type": "markdown",
   "metadata": {},
   "source": [
    "Ans>\n",
    "> Functions that does not have a return statement they have return value of NoneType"
   ]
  },
  {
   "cell_type": "markdown",
   "metadata": {},
   "source": [
    "9> How do you make a function variable refer to the global variable?"
   ]
  },
  {
   "cell_type": "markdown",
   "metadata": {},
   "source": [
    "Ans>\n",
    "> Function varible refer to global varible by using global keyword. For Ex:"
   ]
  },
  {
   "cell_type": "code",
   "execution_count": 10,
   "metadata": {},
   "outputs": [
    {
     "name": "stdout",
     "output_type": "stream",
     "text": [
      "awesome\n"
     ]
    }
   ],
   "source": [
    "x = \"awesome\"\n",
    "\n",
    "def myfunc():\n",
    "    global x\n",
    "    z = x\n",
    "    print(z)\n",
    "\n",
    "myfunc()\n",
    "\n",
    "# print(\"Python is \" + x)"
   ]
  },
  {
   "cell_type": "markdown",
   "metadata": {},
   "source": [
    "10> What is the data type of None?"
   ]
  },
  {
   "cell_type": "code",
   "execution_count": 13,
   "metadata": {},
   "outputs": [
    {
     "data": {
      "text/plain": [
       "NoneType"
      ]
     },
     "execution_count": 13,
     "metadata": {},
     "output_type": "execute_result"
    }
   ],
   "source": [
    "type(None)\n",
    "#type of None is NoneType"
   ]
  },
  {
   "cell_type": "markdown",
   "metadata": {},
   "source": [
    "11> What does the sentence import areallyourpetsnamederic do?"
   ]
  },
  {
   "cell_type": "markdown",
   "metadata": {},
   "source": [
    "Ans>\n",
    "> import areallyourpetsnamederic statement imports module named areallyourpetsnamederic"
   ]
  },
  {
   "cell_type": "markdown",
   "metadata": {},
   "source": [
    "12> If you had a bacon() feature in a spam module, what would you call it after importing spam?"
   ]
  },
  {
   "cell_type": "markdown",
   "metadata": {},
   "source": [
    "Ans>\n",
    "> spam.bacon()"
   ]
  },
  {
   "cell_type": "markdown",
   "metadata": {},
   "source": [
    "13> What can you do to save a programme from crashing if it encounters an error?"
   ]
  },
  {
   "cell_type": "markdown",
   "metadata": {},
   "source": [
    "Ans>\n",
    "> By using the concept of Exeception Handling we will enclose the part which is giving an error with try clause"
   ]
  },
  {
   "cell_type": "markdown",
   "metadata": {},
   "source": [
    "14> What is the purpose of the try clause? What is the purpose of the except clause?\n"
   ]
  },
  {
   "cell_type": "markdown",
   "metadata": {},
   "source": [
    "Ans>\n",
    "> if there is an error then enclose it with try block.  \n",
    "Except caluse is invoked when there is an error in try block"
   ]
  },
  {
   "cell_type": "code",
   "execution_count": null,
   "metadata": {},
   "outputs": [],
   "source": []
  }
 ],
 "metadata": {
  "kernelspec": {
   "display_name": "Python 3",
   "language": "python",
   "name": "python3"
  },
  "language_info": {
   "codemirror_mode": {
    "name": "ipython",
    "version": 3
   },
   "file_extension": ".py",
   "mimetype": "text/x-python",
   "name": "python",
   "nbconvert_exporter": "python",
   "pygments_lexer": "ipython3",
   "version": "3.8.3"
  }
 },
 "nbformat": 4,
 "nbformat_minor": 4
}
