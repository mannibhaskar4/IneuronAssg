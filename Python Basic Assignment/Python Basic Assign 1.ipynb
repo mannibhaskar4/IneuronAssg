{
 "cells": [
  {
   "cell_type": "markdown",
   "metadata": {},
   "source": [
    "1> In the below elements which of them are values or an expression? eg:- values can be\n",
    "    integer or string and expressions will be mathematical operators.\n",
    "    *\n",
    "    \"hello\"\n",
    "    - 87.8\n",
    "    -\n",
    "    /\n",
    "    +\n",
    "    6"
   ]
  },
  {
   "cell_type": "markdown",
   "metadata": {},
   "source": [
    "Ans 1>\n",
    "* is expression\n",
    "\"hello\" is a value\n",
    "-87.9 is value\n",
    "- is expression\n",
    "/ is expression\n",
    "+ is expresson\n",
    "6 is value"
   ]
  },
  {
   "cell_type": "markdown",
   "metadata": {},
   "source": [
    "2> What is the difference between string and variable?"
   ]
  },
  {
   "cell_type": "markdown",
   "metadata": {},
   "source": [
    "Ans 2>\n",
    "String is data type which can be used to store any kind sequence of character whereas variable(it is a storage location) is name given to any kind of data type which can be of type integer, boolean, string, floating point and etc. \n",
    "For Ex:-"
   ]
  },
  {
   "cell_type": "code",
   "execution_count": 2,
   "metadata": {},
   "outputs": [
    {
     "name": "stdout",
     "output_type": "stream",
     "text": [
      "7\n",
      "9.3\n",
      "manni\n"
     ]
    }
   ],
   "source": [
    "i=7 # here, i is integer type of variable with name i\n",
    "f=9.3 # here, f is float type varible with name f\n",
    "s=\"manni\" # here, s is string type of varible with name s\n",
    "print(i)\n",
    "print(f)\n",
    "print(s)"
   ]
  },
  {
   "cell_type": "markdown",
   "metadata": {},
   "source": [
    "3> Describe three different data types."
   ]
  },
  {
   "cell_type": "markdown",
   "metadata": {},
   "source": [
    "Ans 3>\n",
    "Integer type: This a kind of data type that stores integers except decimal values(ranges from -2147483648 to                     2147483647\n",
    "Float type: This is kind of data type that stores all kind of number including integer and decimal\n",
    "String type: It store sequence of characters in any order.\n",
    "\n",
    "Ex:"
   ]
  },
  {
   "cell_type": "code",
   "execution_count": 3,
   "metadata": {},
   "outputs": [],
   "source": [
    "i=7 # here, i is integer type of variable with name i\n",
    "f=9.3 # here, f is float type varible with name f\n",
    "s=\"manni\" # here, s is string type of varible with name s"
   ]
  },
  {
   "cell_type": "markdown",
   "metadata": {},
   "source": [
    "4> What is an expression made up of? What do all expressions do?"
   ]
  },
  {
   "cell_type": "markdown",
   "metadata": {},
   "source": [
    "Ans 4>\n",
    "Expression is valid combination of operators and operands.\n",
    "Expression performs some kind of operations whether it is mathematical, logical or boolean etc."
   ]
  },
  {
   "cell_type": "markdown",
   "metadata": {},
   "source": [
    "5> This assignment statements, like spam = 10. What is the difference between an\n",
    "expression and a statement?"
   ]
  },
  {
   "cell_type": "markdown",
   "metadata": {},
   "source": [
    "Ans 5>\n",
    "Expression is valid combination of operands and operaors whereas assignment statement is storing values in a varible."
   ]
  },
  {
   "cell_type": "markdown",
   "metadata": {},
   "source": [
    "6> After running the following code, what does the variable bacon contain?\n",
    "    bacon = 22\n",
    "    bacon + 1\n"
   ]
  },
  {
   "cell_type": "markdown",
   "metadata": {},
   "source": [
    "Ans 6>\n",
    "bacon = 23"
   ]
  },
  {
   "cell_type": "markdown",
   "metadata": {},
   "source": [
    "7> What should the values of the following two terms be?\n",
    "'spam' + 'spamspam'\n",
    "'spam' * 3"
   ]
  },
  {
   "cell_type": "markdown",
   "metadata": {},
   "source": [
    "Ans 7>\n",
    "spamspamspam\n",
    "spamspamspam"
   ]
  },
  {
   "cell_type": "markdown",
   "metadata": {},
   "source": [
    "8> Why is eggs a valid variable name while 100 is invalid?"
   ]
  },
  {
   "cell_type": "markdown",
   "metadata": {},
   "source": [
    "Ans 8>\n",
    "According to  the rules of identifiers varible names cannot begin with a digit and it cannot be a reserved words\n",
    "that is why eggs a valid variable name while 100 is invalid"
   ]
  },
  {
   "cell_type": "markdown",
   "metadata": {},
   "source": [
    "9> What three functions can be used to get the integer, floating-point number, or string version of a value?"
   ]
  },
  {
   "cell_type": "markdown",
   "metadata": {},
   "source": [
    "Ans 9>\n",
    "int()\n",
    "str()\n",
    "float()"
   ]
  },
  {
   "cell_type": "markdown",
   "metadata": {},
   "source": [
    "10> Why does this expression cause an error? How can you fix it?\n",
    "'I have eaten ' + 99 + ' burritos.'"
   ]
  },
  {
   "cell_type": "markdown",
   "metadata": {},
   "source": [
    "Ans 10>\n",
    "This expression causes error because string cannot be added in integer type of value.\n",
    "To fix it we can use str() function or enclose 99 with single or double qoutes('', \"\").\n",
    "Ex:-\n"
   ]
  },
  {
   "cell_type": "code",
   "execution_count": 9,
   "metadata": {},
   "outputs": [
    {
     "name": "stdout",
     "output_type": "stream",
     "text": [
      "I have eaten 99 burritos.\n",
      "I have eaten 99 burritos.\n",
      "I have eaten 99 burritos.\n"
     ]
    }
   ],
   "source": [
    "print('I have eaten ' + '99' + ' burritos.')\n",
    "print('I have eaten ' + \"99\" + ' burritos.')\n",
    "print('I have eaten ' + str(99) + ' burritos.')"
   ]
  },
  {
   "cell_type": "code",
   "execution_count": null,
   "metadata": {},
   "outputs": [],
   "source": []
  }
 ],
 "metadata": {
  "kernelspec": {
   "display_name": "Python 3",
   "language": "python",
   "name": "python3"
  },
  "language_info": {
   "codemirror_mode": {
    "name": "ipython",
    "version": 3
   },
   "file_extension": ".py",
   "mimetype": "text/x-python",
   "name": "python",
   "nbconvert_exporter": "python",
   "pygments_lexer": "ipython3",
   "version": "3.8.3"
  }
 },
 "nbformat": 4,
 "nbformat_minor": 4
}
